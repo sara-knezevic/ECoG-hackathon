{
  "cells": [
    {
      "cell_type": "code",
      "execution_count": 1,
      "metadata": {
        "id": "PLJj3Uo-gnUD"
      },
      "outputs": [],
      "source": [
        "from os.path import dirname, join as pjoin\n",
        "import scipy.io as sio"
      ]
    },
    {
      "cell_type": "code",
      "execution_count": 2,
      "metadata": {
        "id": "UlKlgLDwecM1"
      },
      "outputs": [],
      "source": [
        "mat_fname = 'ECoG_Handpose.mat'"
      ]
    },
    {
      "cell_type": "code",
      "execution_count": 3,
      "metadata": {
        "id": "OtD4Lvbne-Ht"
      },
      "outputs": [],
      "source": [
        "mat_contents = sio.loadmat(mat_fname)['y']"
      ]
    },
    {
      "cell_type": "code",
      "execution_count": 4,
      "metadata": {
        "colab": {
          "base_uri": "https://localhost:8080/"
        },
        "id": "5e-xUlUUfA71",
        "outputId": "f7e53ae6-5e1d-4871-d835-2417c545e508"
      },
      "outputs": [
        {
          "data": {
            "text/plain": [
              "array([[ 0.00000000e+00,  8.33333333e-04,  1.66666667e-03, ...,\n",
              "         4.22518333e+02,  4.22519167e+02,  4.22520000e+02],\n",
              "       [ 0.00000000e+00,  0.00000000e+00,  0.00000000e+00, ...,\n",
              "        -1.06701961e+05, -1.06699477e+05, -1.06697859e+05],\n",
              "       [ 0.00000000e+00,  0.00000000e+00,  0.00000000e+00, ...,\n",
              "        -8.62051094e+04, -8.62023672e+04, -8.61986562e+04],\n",
              "       ...,\n",
              "       [ 0.00000000e+00,  0.00000000e+00,  0.00000000e+00, ...,\n",
              "         1.53902262e-01,  1.53902262e-01,  1.53902262e-01],\n",
              "       [ 0.00000000e+00,  0.00000000e+00,  0.00000000e+00, ...,\n",
              "         1.61574081e-01,  1.61574081e-01,  1.61574081e-01],\n",
              "       [ 0.00000000e+00,  0.00000000e+00,  0.00000000e+00, ...,\n",
              "         2.34732822e-01,  2.34732822e-01,  2.34732822e-01]])"
            ]
          },
          "execution_count": 4,
          "metadata": {},
          "output_type": "execute_result"
        }
      ],
      "source": [
        "mat_contents"
      ]
    },
    {
      "cell_type": "code",
      "execution_count": 5,
      "metadata": {
        "id": "Ze5Pah3RfBD0"
      },
      "outputs": [],
      "source": [
        "mat_data = mat_contents"
      ]
    },
    {
      "cell_type": "code",
      "execution_count": 6,
      "metadata": {
        "colab": {
          "base_uri": "https://localhost:8080/"
        },
        "id": "lNgzNugvfDeA",
        "outputId": "f4c9121f-d8d4-465f-d854-36b396f9f43f"
      },
      "outputs": [
        {
          "data": {
            "text/plain": [
              "(67, 507025)"
            ]
          },
          "execution_count": 6,
          "metadata": {},
          "output_type": "execute_result"
        }
      ],
      "source": [
        "mat_data.shape\n",
        "# 67 channels\n",
        "# channel 1 - sample time\n",
        "# channel 2-61 - ECoG\n",
        "# channel 62 - paradigm info\n",
        "#              0 - relax\n",
        "#              1 - fist movement\n",
        "#              2 - peace movement\n",
        "#              3 - open hand\n",
        "# channel 63-67 - glove info\n",
        "#              63 - thumb\n",
        "#              64 - index\n",
        "#              65 - middle\n",
        "#              66 - ring\n",
        "#              67 - little"
      ]
    },
    {
      "cell_type": "code",
      "execution_count": 7,
      "metadata": {
        "id": "4lU_CGoXl9yI"
      },
      "outputs": [],
      "source": [
        "import mne\n",
        "import numpy as np\n",
        "from scipy import signal\n",
        "\n",
        "import matplotlib.pyplot as plt\n",
        "from mne.time_frequency import fit_iir_model_raw\n",
        "from mne.filter import create_filter"
      ]
    },
    {
      "cell_type": "code",
      "execution_count": 8,
      "metadata": {
        "id": "VyMgSrinmnbt"
      },
      "outputs": [],
      "source": [
        "# extract ecog channels into nparray\n",
        "ecog_data = mat_data[1:61]"
      ]
    },
    {
      "cell_type": "code",
      "execution_count": 9,
      "metadata": {
        "id": "PB3JfK8ErCnO"
      },
      "outputs": [],
      "source": [
        "paradigm_info = mat_data[61]"
      ]
    },
    {
      "cell_type": "code",
      "execution_count": 10,
      "metadata": {
        "colab": {
          "base_uri": "https://localhost:8080/"
        },
        "id": "IuktHhfyrr2D",
        "outputId": "ae5d5807-fe5c-490d-d5b8-74d0c54792c6"
      },
      "outputs": [
        {
          "data": {
            "text/plain": [
              "(array([0., 1., 2., 3.]), array([286801,  73440,  73440,  73344]))"
            ]
          },
          "execution_count": 10,
          "metadata": {},
          "output_type": "execute_result"
        }
      ],
      "source": [
        "# count unique movements (labels?)\n",
        "np.unique(paradigm_info, return_counts=True)"
      ]
    },
    {
      "cell_type": "code",
      "execution_count": 11,
      "metadata": {
        "colab": {
          "base_uri": "https://localhost:8080/"
        },
        "id": "F1s_mjl8r3zp",
        "outputId": "1b847bc5-825d-4518-c7e5-46434a414e8a"
      },
      "outputs": [
        {
          "data": {
            "text/plain": [
              "array([0.00000000e+00, 8.33333333e-04, 1.66666667e-03, ...,\n",
              "       4.22518333e+02, 4.22519167e+02, 4.22520000e+02])"
            ]
          },
          "execution_count": 11,
          "metadata": {},
          "output_type": "execute_result"
        }
      ],
      "source": [
        "mat_data[0]"
      ]
    },
    {
      "cell_type": "markdown",
      "metadata": {
        "id": "iQELZLy3Bw5M"
      },
      "source": [
        "# CREATE MNE OBJECT"
      ]
    },
    {
      "cell_type": "code",
      "execution_count": 12,
      "metadata": {
        "id": "6gqT2I1FD303"
      },
      "outputs": [],
      "source": [
        "sampling_freq = 1200\n",
        "ch_names = [\"sample_time\"] + [f'CH_{i}' for i in range(1, 61)] + [\"paradigm_info\"]\n",
        "ch_types = ['misc'] + ['ecog'] * 60 + ['stim']"
      ]
    },
    {
      "cell_type": "code",
      "execution_count": 13,
      "metadata": {},
      "outputs": [
        {
          "data": {
            "text/plain": [
              "(62, 62)"
            ]
          },
          "execution_count": 13,
          "metadata": {},
          "output_type": "execute_result"
        }
      ],
      "source": [
        "len(ch_names), len(ch_types)"
      ]
    },
    {
      "cell_type": "code",
      "execution_count": 14,
      "metadata": {
        "id": "LotCnEsLEDEl"
      },
      "outputs": [],
      "source": [
        "info = mne.create_info(ch_names=ch_names, sfreq=1200, ch_types=ch_types)"
      ]
    },
    {
      "cell_type": "code",
      "execution_count": 15,
      "metadata": {
        "colab": {
          "base_uri": "https://localhost:8080/"
        },
        "id": "10i9JVxDKjaH",
        "outputId": "3f86e612-f265-41e9-aca0-356b7f672c7b"
      },
      "outputs": [
        {
          "name": "stdout",
          "output_type": "stream",
          "text": [
            "Creating RawArray with float64 data, n_channels=62, n_times=507025\n",
            "    Range : 0 ... 507024 =      0.000 ...   422.520 secs\n",
            "Ready.\n"
          ]
        }
      ],
      "source": [
        "raw = mne.io.RawArray(mat_data[0:62, :], info)"
      ]
    },
    {
      "cell_type": "code",
      "execution_count": 16,
      "metadata": {},
      "outputs": [
        {
          "name": "stdout",
          "output_type": "stream",
          "text": [
            "NOTE: plot_psd() is a legacy function. New code should use .compute_psd().plot().\n",
            "Effective window size : 1.707 (s)\n"
          ]
        },
        {
          "name": "stderr",
          "output_type": "stream",
          "text": [
            "/home/saras/miniconda3/envs/bci/lib/python3.10/site-packages/mne/viz/utils.py:137: UserWarning: Matplotlib is currently using module://matplotlib_inline.backend_inline, which is a non-GUI backend, so cannot show the figure.\n",
            "  (fig or plt).show(**kwargs)\n"
          ]
        },
        {
          "data": {
            "image/png": "[encoded data removed]",
            "text/plain": [
              "<MNELineFigure size 1000x350 with 1 Axes>"
            ]
          },
          "metadata": {},
          "output_type": "display_data"
        }
      ],
      "source": [
        "# plot ECoG channels only\n",
        "raw.plot_psd(average=True)\n",
        "plt.show();"
      ]
    },
    {
      "cell_type": "code",
      "execution_count": 17,
      "metadata": {},
      "outputs": [],
      "source": [
        "# # plot all channels individually over time using matplotlib\n",
        "\n",
        "# fig, axes = plt.subplots(60, 1, figsize=(10, 60))\n",
        "# for i, ax in enumerate(axes):\n",
        "#     ax.plot(ecog_data[i])\n",
        "#     ax.set_title(raw.ch_names[i])\n",
        "\n",
        "# fig.tight_layout()\n",
        "# plt.show()\n",
        "# plt.close()"
      ]
    },
    {
      "cell_type": "code",
      "execution_count": 18,
      "metadata": {},
      "outputs": [
        {
          "data": {
            "text/html": [
              "<table class=\"table table-hover table-striped table-sm table-responsive small\">\n",
              "    <tr>\n",
              "        <th>Measurement date</th>\n",
              "        \n",
              "        <td>Unknown</td>\n",
              "        \n",
              "    </tr>\n",
              "    <tr>\n",
              "        <th>Experimenter</th>\n",
              "        \n",
              "        <td>Unknown</td>\n",
              "        \n",
              "    </tr>\n",
              "        <th>Participant</th>\n",
              "        \n",
              "        <td>Unknown</td>\n",
              "        \n",
              "    </tr>\n",
              "    <tr>\n",
              "        <th>Digitized points</th>\n",
              "        \n",
              "        <td>Not available</td>\n",
              "        \n",
              "    </tr>\n",
              "    <tr>\n",
              "        <th>Good channels</th>\n",
              "        <td>1 misc, 60 ECoG, 1 Stimulus</td>\n",
              "    </tr>\n",
              "    <tr>\n",
              "        <th>Bad channels</th>\n",
              "        <td>None</td>\n",
              "    </tr>\n",
              "    <tr>\n",
              "        <th>EOG channels</th>\n",
              "        <td>Not available</td>\n",
              "    </tr>\n",
              "    <tr>\n",
              "        <th>ECG channels</th>\n",
              "        <td>Not available</td>\n",
              "    \n",
              "    <tr>\n",
              "        <th>Sampling frequency</th>\n",
              "        <td>1200.00 Hz</td>\n",
              "    </tr>\n",
              "    \n",
              "    \n",
              "    <tr>\n",
              "        <th>Highpass</th>\n",
              "        <td>0.00 Hz</td>\n",
              "    </tr>\n",
              "    \n",
              "    \n",
              "    <tr>\n",
              "        <th>Lowpass</th>\n",
              "        <td>600.00 Hz</td>\n",
              "    </tr>\n",
              "    \n",
              "    \n",
              "</table>"
            ],
            "text/plain": [
              "<Info | 7 non-empty values\n",
              " bads: []\n",
              " ch_names: sample_time, CH_1, CH_2, CH_3, CH_4, CH_5, CH_6, CH_7, CH_8, ...\n",
              " chs: 1 misc, 60 ECoG, 1 Stimulus\n",
              " custom_ref_applied: False\n",
              " highpass: 0.0 Hz\n",
              " lowpass: 600.0 Hz\n",
              " meas_date: unspecified\n",
              " nchan: 62\n",
              " projs: []\n",
              " sfreq: 1200.0 Hz\n",
              ">"
            ]
          },
          "execution_count": 18,
          "metadata": {},
          "output_type": "execute_result"
        }
      ],
      "source": [
        "# show info on the raw object\n",
        "raw.info"
      ]
    },
    {
      "cell_type": "code",
      "execution_count": 19,
      "metadata": {},
      "outputs": [],
      "source": [
        "sample_time = mat_data[0, :]"
      ]
    },
    {
      "cell_type": "code",
      "execution_count": 20,
      "metadata": {},
      "outputs": [],
      "source": [
        "time_diff = np.diff(sample_time)"
      ]
    },
    {
      "cell_type": "code",
      "execution_count": 21,
      "metadata": {},
      "outputs": [],
      "source": [
        "paradigm_info = mat_data[61, :]\n",
        "finger_movement_onsets = mat_data[62:, :]"
      ]
    },
    {
      "cell_type": "code",
      "execution_count": 22,
      "metadata": {},
      "outputs": [
        {
          "name": "stdout",
          "output_type": "stream",
          "text": [
            "ECoG channel type selected for re-referencing\n",
            "Applying average reference.\n",
            "Applying a custom ('ECoG',) reference.\n"
          ]
        },
        {
          "data": {
            "text/html": [
              "<table class=\"table table-hover table-striped table-sm table-responsive small\">\n",
              "    <tr>\n",
              "        <th>Measurement date</th>\n",
              "        \n",
              "        <td>Unknown</td>\n",
              "        \n",
              "    </tr>\n",
              "    <tr>\n",
              "        <th>Experimenter</th>\n",
              "        \n",
              "        <td>Unknown</td>\n",
              "        \n",
              "    </tr>\n",
              "        <th>Participant</th>\n",
              "        \n",
              "        <td>Unknown</td>\n",
              "        \n",
              "    </tr>\n",
              "    <tr>\n",
              "        <th>Digitized points</th>\n",
              "        \n",
              "        <td>Not available</td>\n",
              "        \n",
              "    </tr>\n",
              "    <tr>\n",
              "        <th>Good channels</th>\n",
              "        <td>1 misc, 60 ECoG, 1 Stimulus</td>\n",
              "    </tr>\n",
              "    <tr>\n",
              "        <th>Bad channels</th>\n",
              "        <td>None</td>\n",
              "    </tr>\n",
              "    <tr>\n",
              "        <th>EOG channels</th>\n",
              "        <td>Not available</td>\n",
              "    </tr>\n",
              "    <tr>\n",
              "        <th>ECG channels</th>\n",
              "        <td>Not available</td>\n",
              "    \n",
              "    <tr>\n",
              "        <th>Sampling frequency</th>\n",
              "        <td>1200.00 Hz</td>\n",
              "    </tr>\n",
              "    \n",
              "    \n",
              "    <tr>\n",
              "        <th>Highpass</th>\n",
              "        <td>0.00 Hz</td>\n",
              "    </tr>\n",
              "    \n",
              "    \n",
              "    <tr>\n",
              "        <th>Lowpass</th>\n",
              "        <td>600.00 Hz</td>\n",
              "    </tr>\n",
              "    \n",
              "    \n",
              "    \n",
              "    <tr>\n",
              "        <th>Duration</th>\n",
              "        <td>00:07:03 (HH:MM:SS)</td>\n",
              "    </tr>\n",
              "</table>"
            ],
            "text/plain": [
              "<RawArray | 62 x 507025 (422.5 s), ~239.9 MB, data loaded>"
            ]
          },
          "execution_count": 22,
          "metadata": {},
          "output_type": "execute_result"
        }
      ],
      "source": [
        "# re-reference to average\n",
        "raw.set_eeg_reference('average')"
      ]
    },
    {
      "cell_type": "code",
      "execution_count": 23,
      "metadata": {},
      "outputs": [
        {
          "name": "stdout",
          "output_type": "stream",
          "text": [
            "Filtering raw data in 1 contiguous segment\n",
            "Setting up band-pass filter from 1e+02 - 3e+02 Hz\n",
            "\n",
            "FIR filter parameters\n",
            "---------------------\n",
            "Designing a one-pass, zero-phase, non-causal bandpass filter:\n",
            "- Windowed time-domain design (firwin) method\n",
            "- Hamming window with 0.0194 passband ripple and 53 dB stopband attenuation\n",
            "- Lower passband edge: 100.00\n",
            "- Lower transition bandwidth: 25.00 Hz (-6 dB cutoff frequency: 87.50 Hz)\n",
            "- Upper passband edge: 300.00 Hz\n",
            "- Upper transition bandwidth: 75.00 Hz (-6 dB cutoff frequency: 337.50 Hz)\n",
            "- Filter length: 159 samples (0.133 sec)\n",
            "\n"
          ]
        },
        {
          "name": "stderr",
          "output_type": "stream",
          "text": [
            "[Parallel(n_jobs=1)]: Using backend SequentialBackend with 1 concurrent workers.\n",
            "[Parallel(n_jobs=1)]: Done   1 out of   1 | elapsed:    0.0s remaining:    0.0s\n",
            "[Parallel(n_jobs=1)]: Done   2 out of   2 | elapsed:    0.0s remaining:    0.0s\n",
            "[Parallel(n_jobs=1)]: Done   3 out of   3 | elapsed:    0.1s remaining:    0.0s\n",
            "[Parallel(n_jobs=1)]: Done   4 out of   4 | elapsed:    0.1s remaining:    0.0s\n",
            "[Parallel(n_jobs=1)]: Done  60 out of  60 | elapsed:    1.2s finished\n"
          ]
        }
      ],
      "source": [
        "raw = raw.filter(100, 300)"
      ]
    },
    {
      "cell_type": "code",
      "execution_count": 24,
      "metadata": {},
      "outputs": [
        {
          "name": "stdout",
          "output_type": "stream",
          "text": [
            "Setting up band-stop filter from 49 - 51 Hz\n",
            "\n",
            "FIR filter parameters\n",
            "---------------------\n",
            "Designing a one-pass, zero-phase, non-causal bandstop filter:\n",
            "- Windowed time-domain design (firwin) method\n",
            "- Hamming window with 0.0194 passband ripple and 53 dB stopband attenuation\n",
            "- Lower passband edge: 49.38\n",
            "- Lower transition bandwidth: 0.50 Hz (-6 dB cutoff frequency: 49.12 Hz)\n",
            "- Upper passband edge: 50.62 Hz\n",
            "- Upper transition bandwidth: 0.50 Hz (-6 dB cutoff frequency: 50.88 Hz)\n",
            "- Filter length: 7921 samples (6.601 sec)\n",
            "\n"
          ]
        },
        {
          "name": "stderr",
          "output_type": "stream",
          "text": [
            "[Parallel(n_jobs=1)]: Using backend SequentialBackend with 1 concurrent workers.\n",
            "[Parallel(n_jobs=1)]: Done   1 out of   1 | elapsed:    0.0s remaining:    0.0s\n",
            "[Parallel(n_jobs=1)]: Done   2 out of   2 | elapsed:    0.0s remaining:    0.0s\n",
            "[Parallel(n_jobs=1)]: Done   3 out of   3 | elapsed:    0.0s remaining:    0.0s\n",
            "[Parallel(n_jobs=1)]: Done   4 out of   4 | elapsed:    0.1s remaining:    0.0s\n",
            "[Parallel(n_jobs=1)]: Done  60 out of  60 | elapsed:    0.9s finished\n"
          ]
        },
        {
          "data": {
            "text/html": [
              "<table class=\"table table-hover table-striped table-sm table-responsive small\">\n",
              "    <tr>\n",
              "        <th>Measurement date</th>\n",
              "        \n",
              "        <td>Unknown</td>\n",
              "        \n",
              "    </tr>\n",
              "    <tr>\n",
              "        <th>Experimenter</th>\n",
              "        \n",
              "        <td>Unknown</td>\n",
              "        \n",
              "    </tr>\n",
              "        <th>Participant</th>\n",
              "        \n",
              "        <td>Unknown</td>\n",
              "        \n",
              "    </tr>\n",
              "    <tr>\n",
              "        <th>Digitized points</th>\n",
              "        \n",
              "        <td>Not available</td>\n",
              "        \n",
              "    </tr>\n",
              "    <tr>\n",
              "        <th>Good channels</th>\n",
              "        <td>1 misc, 60 ECoG, 1 Stimulus</td>\n",
              "    </tr>\n",
              "    <tr>\n",
              "        <th>Bad channels</th>\n",
              "        <td>None</td>\n",
              "    </tr>\n",
              "    <tr>\n",
              "        <th>EOG channels</th>\n",
              "        <td>Not available</td>\n",
              "    </tr>\n",
              "    <tr>\n",
              "        <th>ECG channels</th>\n",
              "        <td>Not available</td>\n",
              "    \n",
              "    <tr>\n",
              "        <th>Sampling frequency</th>\n",
              "        <td>1200.00 Hz</td>\n",
              "    </tr>\n",
              "    \n",
              "    \n",
              "    <tr>\n",
              "        <th>Highpass</th>\n",
              "        <td>100.00 Hz</td>\n",
              "    </tr>\n",
              "    \n",
              "    \n",
              "    <tr>\n",
              "        <th>Lowpass</th>\n",
              "        <td>300.00 Hz</td>\n",
              "    </tr>\n",
              "    \n",
              "    \n",
              "    \n",
              "    <tr>\n",
              "        <th>Duration</th>\n",
              "        <td>00:07:03 (HH:MM:SS)</td>\n",
              "    </tr>\n",
              "</table>"
            ],
            "text/plain": [
              "<RawArray | 62 x 507025 (422.5 s), ~239.9 MB, data loaded>"
            ]
          },
          "execution_count": 24,
          "metadata": {},
          "output_type": "execute_result"
        }
      ],
      "source": [
        "# recursive 5th order notch filter\n",
        "raw.notch_filter(50, filter_length='auto', phase='zero')"
      ]
    },
    {
      "cell_type": "code",
      "execution_count": 25,
      "metadata": {},
      "outputs": [
        {
          "data": {
            "image/png": "[encoded data removed]",
            "text/plain": [
              "<Figure size 640x480 with 1 Axes>"
            ]
          },
          "metadata": {},
          "output_type": "display_data"
        }
      ],
      "source": [
        "plt.figure()\n",
        "plt.psd(raw.get_data()[25, 10000:10200], Fs=raw.info['sfreq'])\n",
        "plt.show()"
      ]
    },
    {
      "cell_type": "code",
      "execution_count": 26,
      "metadata": {},
      "outputs": [],
      "source": [
        "order = 12  # define model order\n",
        "\n",
        "# Estimate AR models on raw data\n",
        "b, a = fit_iir_model_raw(raw, order=order, picks=['ecog'], tmin=sample_time[0], tmax=sample_time[-1])\n",
        "d, times = raw[25, 10000:10200]  # look at 25th channel for 200 samples\n",
        "d = d.ravel()  # make flat vector\n",
        "innovation = signal.convolve(d, a, 'valid')\n",
        "d_ = signal.lfilter(b, a, innovation)  # regenerate the signal\n",
        "d_ = np.r_[d_[0] * np.ones(order), d_]  # dummy samples to keep signal length"
      ]
    },
    {
      "cell_type": "code",
      "execution_count": 27,
      "metadata": {},
      "outputs": [
        {
          "data": {
            "image/png": "[encoded data removed]",
            "text/plain": [
              "<Figure size 640x480 with 1 Axes>"
            ]
          },
          "metadata": {},
          "output_type": "display_data"
        }
      ],
      "source": [
        "plt.figure()\n",
        "plt.psd(d, Fs=raw.info['sfreq'], NFFT=2048)\n",
        "plt.psd(innovation, Fs=raw.info['sfreq'], NFFT=2048)\n",
        "plt.psd(d_, Fs=raw.info['sfreq'], NFFT=2048, linestyle='--')\n",
        "plt.legend(('Signal', 'Innovation', 'Regenerated signal'))\n",
        "plt.show()"
      ]
    },
    {
      "cell_type": "code",
      "execution_count": 28,
      "metadata": {},
      "outputs": [
        {
          "data": {
            "text/plain": [
              "(3.421427444406093, 67.12192482133842, (62, 507025))"
            ]
          },
          "execution_count": 28,
          "metadata": {},
          "output_type": "execute_result"
        }
      ],
      "source": [
        "m = raw._data\n",
        "m.mean(), m.std(), m.shape"
      ]
    },
    {
      "cell_type": "code",
      "execution_count": 29,
      "metadata": {},
      "outputs": [
        {
          "name": "stdout",
          "output_type": "stream",
          "text": [
            "NOTE: plot_psd() is a legacy function. New code should use .compute_psd().plot().\n",
            "Effective window size : 1.707 (s)\n"
          ]
        },
        {
          "name": "stderr",
          "output_type": "stream",
          "text": [
            "/home/saras/miniconda3/envs/bci/lib/python3.10/site-packages/mne/viz/utils.py:137: UserWarning: Matplotlib is currently using module://matplotlib_inline.backend_inline, which is a non-GUI backend, so cannot show the figure.\n",
            "  (fig or plt).show(**kwargs)\n"
          ]
        },
        {
          "data": {
            "image/png": "[encoded data removed]",
            "text/plain": [
              "<MNELineFigure size 1000x350 with 1 Axes>"
            ]
          },
          "metadata": {},
          "output_type": "display_data"
        }
      ],
      "source": [
        "raw.plot_psd(average=True)\n",
        "plt.show()"
      ]
    },
    {
      "cell_type": "code",
      "execution_count": 30,
      "metadata": {},
      "outputs": [
        {
          "name": "stdout",
          "output_type": "stream",
          "text": [
            "90 events found\n",
            "Event IDs: [1 2 3]\n"
          ]
        }
      ],
      "source": [
        "event_labels = dict(fist_movement = 1, peace_movement = 2, open_hand = 3)\n",
        "# find events in the MNE raw object\n",
        "events = mne.find_events(raw, stim_channel=\"paradigm_info\", shortest_event=1, verbose=True)"
      ]
    },
    {
      "cell_type": "code",
      "execution_count": 31,
      "metadata": {},
      "outputs": [
        {
          "name": "stdout",
          "output_type": "stream",
          "text": [
            "Not setting metadata\n",
            "90 matching events found\n",
            "Applying baseline correction (mode: mean)\n",
            "0 projection items activated\n",
            "<Epochs |  90 events (good & bad), 0 - 1.5 sec, baseline 0 – 0 sec, ~63 kB, data not loaded,\n",
            " '1': 30\n",
            " '2': 30\n",
            " '3': 30>\n"
          ]
        }
      ],
      "source": [
        "epochs = mne.Epochs(raw, events, tmin=0., tmax=1.5, baseline=(0, 0))\n",
        "print(epochs)"
      ]
    },
    {
      "cell_type": "code",
      "execution_count": 32,
      "metadata": {},
      "outputs": [],
      "source": [
        "import scipy.io as sio\n",
        "import numpy as np\n",
        "from sklearn.model_selection import train_test_split\n",
        "from sklearn.preprocessing import MinMaxScaler \n",
        "from sklearn.preprocessing import LabelEncoder\n",
        "import mne.decoding\n",
        "from sklearn.pipeline import make_pipeline\n",
        "from sklearn.linear_model import LogisticRegression\n",
        "from mne.decoding import Vectorizer, Scaler, cross_val_multiscore"
      ]
    },
    {
      "cell_type": "code",
      "execution_count": 33,
      "metadata": {},
      "outputs": [
        {
          "name": "stdout",
          "output_type": "stream",
          "text": [
            "Using data from preloaded Raw for 90 events and 1801 original time points ...\n",
            "0 bad epochs dropped\n"
          ]
        },
        {
          "data": {
            "text/plain": [
              "((90, 62, 1801), (90,))"
            ]
          },
          "execution_count": 33,
          "metadata": {},
          "output_type": "execute_result"
        }
      ],
      "source": [
        "X = epochs.get_data() # n_epochs, n_channels, n_times\n",
        "y = epochs.events[:, -1]\n",
        "\n",
        "X.shape, y.shape"
      ]
    },
    {
      "cell_type": "code",
      "execution_count": 34,
      "metadata": {},
      "outputs": [
        {
          "data": {
            "text/plain": [
              "False"
            ]
          },
          "execution_count": 34,
          "metadata": {},
          "output_type": "execute_result"
        }
      ],
      "source": [
        "X.shape[0] != y.shape[0]"
      ]
    },
    {
      "cell_type": "markdown",
      "metadata": {},
      "source": [
        "SkLearn models"
      ]
    },
    {
      "cell_type": "code",
      "execution_count": 35,
      "metadata": {},
      "outputs": [],
      "source": [
        "import numpy as np\n",
        "import matplotlib.pyplot as plt\n",
        "from sklearn.pipeline import Pipeline\n",
        "from sklearn.discriminant_analysis import LinearDiscriminantAnalysis\n",
        "from sklearn.model_selection import ShuffleSplit, cross_val_score\n",
        "from mne import Epochs, pick_types, events_from_annotations\n",
        "from mne.channels import make_standard_montage\n",
        "from mne.io import concatenate_raws, read_raw_edf\n",
        "from mne.datasets import eegbci\n",
        "from mne.decoding import CSP\n",
        "from pyriemann.estimation import Covariances\n",
        "from pyriemann.tangentspace import TangentSpace\n",
        "from sklearn.metrics import f1_score\n",
        "from pyriemann.estimation import Covariances\n",
        "from pyriemann.tangentspace import TangentSpace\n",
        "from sklearn.ensemble import RandomForestClassifier\n",
        "from sklearn.svm import SVC"
      ]
    },
    {
      "cell_type": "code",
      "execution_count": 36,
      "metadata": {},
      "outputs": [
        {
          "name": "stdout",
          "output_type": "stream",
          "text": [
            "Using data from preloaded Raw for 90 events and 1801 original time points ...\n"
          ]
        },
        {
          "data": {
            "text/plain": [
              "((90, 62, 1801), (90,))"
            ]
          },
          "execution_count": 36,
          "metadata": {},
          "output_type": "execute_result"
        }
      ],
      "source": [
        "X = epochs.get_data() # n_epochs, n_channels, n_times\n",
        "y = epochs.events[:, 2]\n",
        "\n",
        "X.shape, y.shape"
      ]
    },
    {
      "cell_type": "code",
      "execution_count": 37,
      "metadata": {},
      "outputs": [
        {
          "data": {
            "text/plain": [
              "((72, 62, 1801), (18, 62, 1801), (72,), (18,))"
            ]
          },
          "execution_count": 37,
          "metadata": {},
          "output_type": "execute_result"
        }
      ],
      "source": [
        "# split data into train and test sets\n",
        "X_train, X_test, y_train, y_test = train_test_split(X, y, test_size=0.2, shuffle=True)\n",
        "\n",
        "X_train.shape, X_test.shape, y_train.shape, y_test.shape"
      ]
    },
    {
      "cell_type": "code",
      "execution_count": 38,
      "metadata": {},
      "outputs": [
        {
          "name": "stdout",
          "output_type": "stream",
          "text": [
            "Pyremann features + LDA\n",
            "Classification accuracy: 0.59 +/-0.08\n",
            "Accuracy: 83.33%\n",
            "F1 score: 0.83\n"
          ]
        }
      ],
      "source": [
        "# pyriemann feature extraction and LDA\n",
        "\n",
        "print(\"Pyremann features + LDA\")\n",
        "\n",
        "# define the pipeline\n",
        "pipe = Pipeline([('cov', Covariances(estimator='lwf')), ('ts', TangentSpace()), ('lda', LinearDiscriminantAnalysis())])\n",
        "\n",
        "# cross validation\n",
        "cv = ShuffleSplit(10, test_size=0.2, random_state=42)\n",
        "scores = cross_val_score(pipe, X_train, y_train, cv=cv, n_jobs=1)\n",
        "print(\"Classification accuracy: %0.2f +/-%0.2f\" % (scores.mean(), scores.std()))\n",
        "\n",
        "# fit the pipeline\n",
        "pipe.fit(X_train, y_train)\n",
        "\n",
        "# predict\n",
        "y_pred = pipe.predict(X_test)\n",
        "\n",
        "# calculate the accuracy\n",
        "accuracy = np.sum(y_pred == y_test) / len(y_test)\n",
        "print(f\"Accuracy: {accuracy * 100:.2f}%\")\n",
        "\n",
        "# calculate the F1 score\n",
        "f1 = f1_score(y_test, y_pred, average='weighted')\n",
        "print(\"F1 score: {:.2f}\".format(f1))"
      ]
    },
    {
      "cell_type": "code",
      "execution_count": 39,
      "metadata": {},
      "outputs": [
        {
          "name": "stdout",
          "output_type": "stream",
          "text": [
            "CSP features + LDA\n",
            "Computing rank from data with rank=None\n",
            "    Using tolerance 6.7e+02 (2.2e-16 eps * 62 dim * 4.9e+16  max singular value)\n",
            "    Estimated rank (mag): 62\n",
            "    MAG: rank 62 computed from 62 data channels with 0 projectors\n",
            "Reducing data rank from 62 -> 62\n",
            "Estimating covariance using EMPIRICAL\n",
            "Done.\n",
            "Computing rank from data with rank=None\n",
            "    Using tolerance 6.5e+02 (2.2e-16 eps * 62 dim * 4.7e+16  max singular value)\n",
            "    Estimated rank (mag): 62\n",
            "    MAG: rank 62 computed from 62 data channels with 0 projectors\n",
            "Reducing data rank from 62 -> 62\n",
            "Estimating covariance using EMPIRICAL\n",
            "Done.\n",
            "Computing rank from data with rank=None\n",
            "    Using tolerance 5.9e+02 (2.2e-16 eps * 62 dim * 4.3e+16  max singular value)\n",
            "    Estimated rank (mag): 62\n",
            "    MAG: rank 62 computed from 62 data channels with 0 projectors\n",
            "Reducing data rank from 62 -> 62\n",
            "Estimating covariance using EMPIRICAL\n",
            "Done.\n",
            "Computing rank from data with rank=None\n",
            "    Using tolerance 6.4e+02 (2.2e-16 eps * 62 dim * 4.7e+16  max singular value)\n",
            "    Estimated rank (mag): 62\n",
            "    MAG: rank 62 computed from 62 data channels with 0 projectors\n",
            "Reducing data rank from 62 -> 62\n",
            "Estimating covariance using EMPIRICAL\n",
            "Done.\n",
            "Computing rank from data with rank=None\n",
            "    Using tolerance 6.5e+02 (2.2e-16 eps * 62 dim * 4.8e+16  max singular value)\n",
            "    Estimated rank (mag): 62\n",
            "    MAG: rank 62 computed from 62 data channels with 0 projectors\n",
            "Reducing data rank from 62 -> 62\n",
            "Estimating covariance using EMPIRICAL\n",
            "Done.\n",
            "Computing rank from data with rank=None\n",
            "    Using tolerance 6.5e+02 (2.2e-16 eps * 62 dim * 4.7e+16  max singular value)\n",
            "    Estimated rank (mag): 62\n",
            "    MAG: rank 62 computed from 62 data channels with 0 projectors\n",
            "Reducing data rank from 62 -> 62\n",
            "Estimating covariance using EMPIRICAL\n",
            "Done.\n",
            "Computing rank from data with rank=None\n",
            "    Using tolerance 6.7e+02 (2.2e-16 eps * 62 dim * 4.9e+16  max singular value)\n",
            "    Estimated rank (mag): 62\n",
            "    MAG: rank 62 computed from 62 data channels with 0 projectors\n",
            "Reducing data rank from 62 -> 62\n",
            "Estimating covariance using EMPIRICAL\n",
            "Done.\n",
            "Computing rank from data with rank=None\n",
            "    Using tolerance 6e+02 (2.2e-16 eps * 62 dim * 4.4e+16  max singular value)\n",
            "    Estimated rank (mag): 62\n",
            "    MAG: rank 62 computed from 62 data channels with 0 projectors\n",
            "Reducing data rank from 62 -> 62\n",
            "Estimating covariance using EMPIRICAL\n",
            "Done.\n",
            "Computing rank from data with rank=None\n",
            "    Using tolerance 6e+02 (2.2e-16 eps * 62 dim * 4.4e+16  max singular value)\n",
            "    Estimated rank (mag): 62\n",
            "    MAG: rank 62 computed from 62 data channels with 0 projectors\n",
            "Reducing data rank from 62 -> 62\n",
            "Estimating covariance using EMPIRICAL\n",
            "Done.\n",
            "Computing rank from data with rank=None\n",
            "    Using tolerance 6.9e+02 (2.2e-16 eps * 62 dim * 5e+16  max singular value)\n",
            "    Estimated rank (mag): 62\n",
            "    MAG: rank 62 computed from 62 data channels with 0 projectors\n",
            "Reducing data rank from 62 -> 62\n",
            "Estimating covariance using EMPIRICAL\n",
            "Done.\n",
            "Computing rank from data with rank=None\n",
            "    Using tolerance 6e+02 (2.2e-16 eps * 62 dim * 4.4e+16  max singular value)\n",
            "    Estimated rank (mag): 62\n",
            "    MAG: rank 62 computed from 62 data channels with 0 projectors\n",
            "Reducing data rank from 62 -> 62\n",
            "Estimating covariance using EMPIRICAL\n",
            "Done.\n",
            "Computing rank from data with rank=None\n",
            "    Using tolerance 5.9e+02 (2.2e-16 eps * 62 dim * 4.3e+16  max singular value)\n",
            "    Estimated rank (mag): 62\n",
            "    MAG: rank 62 computed from 62 data channels with 0 projectors\n",
            "Reducing data rank from 62 -> 62\n",
            "Estimating covariance using EMPIRICAL\n",
            "Done.\n",
            "Computing rank from data with rank=None\n",
            "    Using tolerance 6.3e+02 (2.2e-16 eps * 62 dim * 4.6e+16  max singular value)\n",
            "    Estimated rank (mag): 62\n",
            "    MAG: rank 62 computed from 62 data channels with 0 projectors\n",
            "Reducing data rank from 62 -> 62\n",
            "Estimating covariance using EMPIRICAL\n",
            "Done.\n",
            "Computing rank from data with rank=None\n",
            "    Using tolerance 6.2e+02 (2.2e-16 eps * 62 dim * 4.5e+16  max singular value)\n",
            "    Estimated rank (mag): 62\n",
            "    MAG: rank 62 computed from 62 data channels with 0 projectors\n",
            "Reducing data rank from 62 -> 62\n",
            "Estimating covariance using EMPIRICAL\n",
            "Done.\n",
            "Computing rank from data with rank=None\n",
            "    Using tolerance 6.7e+02 (2.2e-16 eps * 62 dim * 4.9e+16  max singular value)\n",
            "    Estimated rank (mag): 62\n",
            "    MAG: rank 62 computed from 62 data channels with 0 projectors\n",
            "Reducing data rank from 62 -> 62\n",
            "Estimating covariance using EMPIRICAL\n",
            "Done.\n",
            "Computing rank from data with rank=None\n",
            "    Using tolerance 6.5e+02 (2.2e-16 eps * 62 dim * 4.7e+16  max singular value)\n",
            "    Estimated rank (mag): 62\n",
            "    MAG: rank 62 computed from 62 data channels with 0 projectors\n",
            "Reducing data rank from 62 -> 62\n",
            "Estimating covariance using EMPIRICAL\n",
            "Done.\n",
            "Computing rank from data with rank=None\n",
            "    Using tolerance 6.5e+02 (2.2e-16 eps * 62 dim * 4.7e+16  max singular value)\n",
            "    Estimated rank (mag): 62\n",
            "    MAG: rank 62 computed from 62 data channels with 0 projectors\n",
            "Reducing data rank from 62 -> 62\n",
            "Estimating covariance using EMPIRICAL\n",
            "Done.\n",
            "Computing rank from data with rank=None\n",
            "    Using tolerance 6e+02 (2.2e-16 eps * 62 dim * 4.3e+16  max singular value)\n",
            "    Estimated rank (mag): 62\n",
            "    MAG: rank 62 computed from 62 data channels with 0 projectors\n",
            "Reducing data rank from 62 -> 62\n",
            "Estimating covariance using EMPIRICAL\n",
            "Done.\n",
            "Computing rank from data with rank=None\n",
            "    Using tolerance 6.3e+02 (2.2e-16 eps * 62 dim * 4.6e+16  max singular value)\n",
            "    Estimated rank (mag): 62\n",
            "    MAG: rank 62 computed from 62 data channels with 0 projectors\n",
            "Reducing data rank from 62 -> 62\n",
            "Estimating covariance using EMPIRICAL\n",
            "Done.\n",
            "Computing rank from data with rank=None\n",
            "    Using tolerance 6.7e+02 (2.2e-16 eps * 62 dim * 4.9e+16  max singular value)\n",
            "    Estimated rank (mag): 62\n",
            "    MAG: rank 62 computed from 62 data channels with 0 projectors\n",
            "Reducing data rank from 62 -> 62\n",
            "Estimating covariance using EMPIRICAL\n",
            "Done.\n",
            "Computing rank from data with rank=None\n",
            "    Using tolerance 5.8e+02 (2.2e-16 eps * 62 dim * 4.2e+16  max singular value)\n",
            "    Estimated rank (mag): 62\n",
            "    MAG: rank 62 computed from 62 data channels with 0 projectors\n",
            "Reducing data rank from 62 -> 62\n",
            "Estimating covariance using EMPIRICAL\n",
            "Done.\n",
            "Computing rank from data with rank=None\n",
            "    Using tolerance 6.8e+02 (2.2e-16 eps * 62 dim * 5e+16  max singular value)\n",
            "    Estimated rank (mag): 62\n",
            "    MAG: rank 62 computed from 62 data channels with 0 projectors\n",
            "Reducing data rank from 62 -> 62\n",
            "Estimating covariance using EMPIRICAL\n",
            "Done.\n",
            "Computing rank from data with rank=None\n",
            "    Using tolerance 6e+02 (2.2e-16 eps * 62 dim * 4.3e+16  max singular value)\n",
            "    Estimated rank (mag): 62\n",
            "    MAG: rank 62 computed from 62 data channels with 0 projectors\n",
            "Reducing data rank from 62 -> 62\n",
            "Estimating covariance using EMPIRICAL\n",
            "Done.\n",
            "Computing rank from data with rank=None\n",
            "    Using tolerance 5.8e+02 (2.2e-16 eps * 62 dim * 4.2e+16  max singular value)\n",
            "    Estimated rank (mag): 62\n",
            "    MAG: rank 62 computed from 62 data channels with 0 projectors\n",
            "Reducing data rank from 62 -> 62\n",
            "Estimating covariance using EMPIRICAL\n",
            "Done.\n",
            "Computing rank from data with rank=None\n",
            "    Using tolerance 6e+02 (2.2e-16 eps * 62 dim * 4.4e+16  max singular value)\n",
            "    Estimated rank (mag): 62\n",
            "    MAG: rank 62 computed from 62 data channels with 0 projectors\n",
            "Reducing data rank from 62 -> 62\n",
            "Estimating covariance using EMPIRICAL\n",
            "Done.\n",
            "Computing rank from data with rank=None\n",
            "    Using tolerance 6.8e+02 (2.2e-16 eps * 62 dim * 5e+16  max singular value)\n",
            "    Estimated rank (mag): 62\n",
            "    MAG: rank 62 computed from 62 data channels with 0 projectors\n",
            "Reducing data rank from 62 -> 62\n",
            "Estimating covariance using EMPIRICAL\n",
            "Done.\n",
            "Computing rank from data with rank=None\n",
            "    Using tolerance 6.2e+02 (2.2e-16 eps * 62 dim * 4.5e+16  max singular value)\n",
            "    Estimated rank (mag): 62\n",
            "    MAG: rank 62 computed from 62 data channels with 0 projectors\n",
            "Reducing data rank from 62 -> 62\n",
            "Estimating covariance using EMPIRICAL\n",
            "Done.\n",
            "Computing rank from data with rank=None\n",
            "    Using tolerance 6e+02 (2.2e-16 eps * 62 dim * 4.3e+16  max singular value)\n",
            "    Estimated rank (mag): 62\n",
            "    MAG: rank 62 computed from 62 data channels with 0 projectors\n",
            "Reducing data rank from 62 -> 62\n",
            "Estimating covariance using EMPIRICAL\n",
            "Done.\n",
            "Computing rank from data with rank=None\n",
            "    Using tolerance 6.4e+02 (2.2e-16 eps * 62 dim * 4.6e+16  max singular value)\n",
            "    Estimated rank (mag): 62\n",
            "    MAG: rank 62 computed from 62 data channels with 0 projectors\n",
            "Reducing data rank from 62 -> 62\n",
            "Estimating covariance using EMPIRICAL\n",
            "Done.\n",
            "Computing rank from data with rank=None\n",
            "    Using tolerance 6.7e+02 (2.2e-16 eps * 62 dim * 4.9e+16  max singular value)\n",
            "    Estimated rank (mag): 62\n",
            "    MAG: rank 62 computed from 62 data channels with 0 projectors\n",
            "Reducing data rank from 62 -> 62\n",
            "Estimating covariance using EMPIRICAL\n",
            "Done.\n",
            "Classification accuracy: 0.71 +/-0.09\n",
            "Computing rank from data with rank=None\n",
            "    Using tolerance 7.2e+02 (2.2e-16 eps * 62 dim * 5.3e+16  max singular value)\n",
            "    Estimated rank (mag): 62\n",
            "    MAG: rank 62 computed from 62 data channels with 0 projectors\n",
            "Reducing data rank from 62 -> 62\n",
            "Estimating covariance using EMPIRICAL\n",
            "Done.\n",
            "Computing rank from data with rank=None\n",
            "    Using tolerance 7.2e+02 (2.2e-16 eps * 62 dim * 5.2e+16  max singular value)\n",
            "    Estimated rank (mag): 62\n",
            "    MAG: rank 62 computed from 62 data channels with 0 projectors\n",
            "Reducing data rank from 62 -> 62\n",
            "Estimating covariance using EMPIRICAL\n",
            "Done.\n",
            "Computing rank from data with rank=None\n",
            "    Using tolerance 6.7e+02 (2.2e-16 eps * 62 dim * 4.9e+16  max singular value)\n",
            "    Estimated rank (mag): 62\n",
            "    MAG: rank 62 computed from 62 data channels with 0 projectors\n",
            "Reducing data rank from 62 -> 62\n",
            "Estimating covariance using EMPIRICAL\n",
            "Done.\n",
            "Accuracy: 66.67%\n",
            "F1 score: 0.66\n"
          ]
        }
      ],
      "source": [
        "# CSP feature extraction and LDA\n",
        "\n",
        "print(\"CSP features + LDA\")\n",
        "\n",
        "# define the pipeline\n",
        "pipe = Pipeline([('csp', CSP(n_components=4, log=False, norm_trace=False)), ('lda', LinearDiscriminantAnalysis())])\n",
        "\n",
        "# cross validation\n",
        "cv = ShuffleSplit(10, test_size=0.2, random_state=42)\n",
        "scores = cross_val_score(pipe, X_train, y_train, cv=cv, n_jobs=1)\n",
        "# remove NaN values from scores\n",
        "scores = scores[~np.isnan(scores)]\n",
        "\n",
        "print(\"Classification accuracy: %0.2f +/-%0.2f\" % (scores.mean(), scores.std()))\n",
        "\n",
        "# fit the pipeline\n",
        "pipe.fit(X_train, y_train)\n",
        "\n",
        "# predict\n",
        "y_pred = pipe.predict(X_test)\n",
        "\n",
        "# calculate the accuracy\n",
        "accuracy = np.sum(y_pred == y_test) / len(y_test)\n",
        "print(f\"Accuracy: {accuracy * 100:.2f}%\")\n",
        "\n",
        "# calculate the F1 score\n",
        "f1 = f1_score(y_test, y_pred, average='weighted')\n",
        "\n",
        "print(\"F1 score: {:.2f}\".format(f1))"
      ]
    },
    {
      "cell_type": "code",
      "execution_count": 40,
      "metadata": {},
      "outputs": [
        {
          "name": "stdout",
          "output_type": "stream",
          "text": [
            "CSP features + LDA\n",
            "Classification accuracy: 0.71 +/-0.09\n",
            "Accuracy: 66.67%\n",
            "F1 score: 0.66\n"
          ]
        }
      ],
      "source": [
        "print(\"CSP features + LDA\")\n",
        "print(\"Classification accuracy: %0.2f +/-%0.2f\" % (scores.mean(), scores.std()))\n",
        "print(f\"Accuracy: {accuracy * 100:.2f}%\")\n",
        "print(\"F1 score: {:.2f}\".format(f1))"
      ]
    },
    {
      "cell_type": "code",
      "execution_count": 41,
      "metadata": {},
      "outputs": [
        {
          "name": "stdout",
          "output_type": "stream",
          "text": [
            "Pyremann features + Random Forest\n",
            "Classification accuracy: 0.75 +/-0.12\n",
            "Accuracy: 100.00%\n",
            "F1 score: 1.00\n"
          ]
        }
      ],
      "source": [
        "# pyremann feature extraction and random forest classifier\n",
        "\n",
        "print(\"Pyremann features + Random Forest\")\n",
        "\n",
        "# define the pipeline\n",
        "pipe = Pipeline([('cov', Covariances(estimator='lwf')), ('ts', TangentSpace()), ('rf', RandomForestClassifier(n_estimators=100))])\n",
        "\n",
        "# cross validation\n",
        "cv = ShuffleSplit(10, test_size=0.2, random_state=42)\n",
        "scores = cross_val_score(pipe, X_train, y_train, cv=cv, n_jobs=1)\n",
        "print(\"Classification accuracy: %0.2f +/-%0.2f\" % (scores.mean(), scores.std()))\n",
        "\n",
        "# fit the pipeline\n",
        "pipe.fit(X_train, y_train)\n",
        "\n",
        "# predict\n",
        "y_pred = pipe.predict(X_test)\n",
        "\n",
        "# calculate the accuracy\n",
        "accuracy = np.sum(y_pred == y_test) / len(y_test)\n",
        "print(f\"Accuracy: {accuracy * 100:.2f}%\")\n",
        "\n",
        "# calculate the F1 score\n",
        "f1 = f1_score(y_test, y_pred, average='weighted')\n",
        "print(\"F1 score: {:.2f}\".format(f1))"
      ]
    },
    {
      "cell_type": "code",
      "execution_count": 42,
      "metadata": {},
      "outputs": [
        {
          "name": "stdout",
          "output_type": "stream",
          "text": [
            "CSP features + Random Forest\n",
            "Computing rank from data with rank=None\n",
            "    Using tolerance 6.7e+02 (2.2e-16 eps * 62 dim * 4.9e+16  max singular value)\n",
            "    Estimated rank (mag): 62\n",
            "    MAG: rank 62 computed from 62 data channels with 0 projectors\n",
            "Reducing data rank from 62 -> 62\n",
            "Estimating covariance using EMPIRICAL\n",
            "Done.\n",
            "Computing rank from data with rank=None\n",
            "    Using tolerance 6.5e+02 (2.2e-16 eps * 62 dim * 4.7e+16  max singular value)\n",
            "    Estimated rank (mag): 62\n",
            "    MAG: rank 62 computed from 62 data channels with 0 projectors\n",
            "Reducing data rank from 62 -> 62\n",
            "Estimating covariance using EMPIRICAL\n",
            "Done.\n",
            "Computing rank from data with rank=None\n",
            "    Using tolerance 5.9e+02 (2.2e-16 eps * 62 dim * 4.3e+16  max singular value)\n",
            "    Estimated rank (mag): 62\n",
            "    MAG: rank 62 computed from 62 data channels with 0 projectors\n",
            "Reducing data rank from 62 -> 62\n",
            "Estimating covariance using EMPIRICAL\n",
            "Done.\n",
            "Computing rank from data with rank=None\n",
            "    Using tolerance 6.4e+02 (2.2e-16 eps * 62 dim * 4.7e+16  max singular value)\n",
            "    Estimated rank (mag): 62\n",
            "    MAG: rank 62 computed from 62 data channels with 0 projectors\n",
            "Reducing data rank from 62 -> 62\n",
            "Estimating covariance using EMPIRICAL\n",
            "Done.\n",
            "Computing rank from data with rank=None\n",
            "    Using tolerance 6.5e+02 (2.2e-16 eps * 62 dim * 4.8e+16  max singular value)\n",
            "    Estimated rank (mag): 62\n",
            "    MAG: rank 62 computed from 62 data channels with 0 projectors\n",
            "Reducing data rank from 62 -> 62\n",
            "Estimating covariance using EMPIRICAL\n",
            "Done.\n",
            "Computing rank from data with rank=None\n",
            "    Using tolerance 6.5e+02 (2.2e-16 eps * 62 dim * 4.7e+16  max singular value)\n",
            "    Estimated rank (mag): 62\n",
            "    MAG: rank 62 computed from 62 data channels with 0 projectors\n",
            "Reducing data rank from 62 -> 62\n",
            "Estimating covariance using EMPIRICAL\n",
            "Done.\n",
            "Computing rank from data with rank=None\n",
            "    Using tolerance 6.7e+02 (2.2e-16 eps * 62 dim * 4.9e+16  max singular value)\n",
            "    Estimated rank (mag): 62\n",
            "    MAG: rank 62 computed from 62 data channels with 0 projectors\n",
            "Reducing data rank from 62 -> 62\n",
            "Estimating covariance using EMPIRICAL\n",
            "Done.\n",
            "Computing rank from data with rank=None\n",
            "    Using tolerance 6e+02 (2.2e-16 eps * 62 dim * 4.4e+16  max singular value)\n",
            "    Estimated rank (mag): 62\n",
            "    MAG: rank 62 computed from 62 data channels with 0 projectors\n",
            "Reducing data rank from 62 -> 62\n",
            "Estimating covariance using EMPIRICAL\n",
            "Done.\n",
            "Computing rank from data with rank=None\n",
            "    Using tolerance 6e+02 (2.2e-16 eps * 62 dim * 4.4e+16  max singular value)\n",
            "    Estimated rank (mag): 62\n",
            "    MAG: rank 62 computed from 62 data channels with 0 projectors\n",
            "Reducing data rank from 62 -> 62\n",
            "Estimating covariance using EMPIRICAL\n",
            "Done.\n",
            "Computing rank from data with rank=None\n",
            "    Using tolerance 6.9e+02 (2.2e-16 eps * 62 dim * 5e+16  max singular value)\n",
            "    Estimated rank (mag): 62\n",
            "    MAG: rank 62 computed from 62 data channels with 0 projectors\n",
            "Reducing data rank from 62 -> 62\n",
            "Estimating covariance using EMPIRICAL\n",
            "Done.\n",
            "Computing rank from data with rank=None\n",
            "    Using tolerance 6e+02 (2.2e-16 eps * 62 dim * 4.4e+16  max singular value)\n",
            "    Estimated rank (mag): 62\n",
            "    MAG: rank 62 computed from 62 data channels with 0 projectors\n",
            "Reducing data rank from 62 -> 62\n",
            "Estimating covariance using EMPIRICAL\n",
            "Done.\n",
            "Computing rank from data with rank=None\n",
            "    Using tolerance 5.9e+02 (2.2e-16 eps * 62 dim * 4.3e+16  max singular value)\n",
            "    Estimated rank (mag): 62\n",
            "    MAG: rank 62 computed from 62 data channels with 0 projectors\n",
            "Reducing data rank from 62 -> 62\n",
            "Estimating covariance using EMPIRICAL\n",
            "Done.\n",
            "Computing rank from data with rank=None\n",
            "    Using tolerance 6.3e+02 (2.2e-16 eps * 62 dim * 4.6e+16  max singular value)\n",
            "    Estimated rank (mag): 62\n",
            "    MAG: rank 62 computed from 62 data channels with 0 projectors\n",
            "Reducing data rank from 62 -> 62\n",
            "Estimating covariance using EMPIRICAL\n",
            "Done.\n",
            "Computing rank from data with rank=None\n",
            "    Using tolerance 6.2e+02 (2.2e-16 eps * 62 dim * 4.5e+16  max singular value)\n",
            "    Estimated rank (mag): 62\n",
            "    MAG: rank 62 computed from 62 data channels with 0 projectors\n",
            "Reducing data rank from 62 -> 62\n",
            "Estimating covariance using EMPIRICAL\n",
            "Done.\n",
            "Computing rank from data with rank=None\n",
            "    Using tolerance 6.7e+02 (2.2e-16 eps * 62 dim * 4.9e+16  max singular value)\n",
            "    Estimated rank (mag): 62\n",
            "    MAG: rank 62 computed from 62 data channels with 0 projectors\n",
            "Reducing data rank from 62 -> 62\n",
            "Estimating covariance using EMPIRICAL\n",
            "Done.\n",
            "Computing rank from data with rank=None\n",
            "    Using tolerance 6.5e+02 (2.2e-16 eps * 62 dim * 4.7e+16  max singular value)\n",
            "    Estimated rank (mag): 62\n",
            "    MAG: rank 62 computed from 62 data channels with 0 projectors\n",
            "Reducing data rank from 62 -> 62\n",
            "Estimating covariance using EMPIRICAL\n",
            "Done.\n",
            "Computing rank from data with rank=None\n",
            "    Using tolerance 6.5e+02 (2.2e-16 eps * 62 dim * 4.7e+16  max singular value)\n",
            "    Estimated rank (mag): 62\n",
            "    MAG: rank 62 computed from 62 data channels with 0 projectors\n",
            "Reducing data rank from 62 -> 62\n",
            "Estimating covariance using EMPIRICAL\n",
            "Done.\n",
            "Computing rank from data with rank=None\n",
            "    Using tolerance 6e+02 (2.2e-16 eps * 62 dim * 4.3e+16  max singular value)\n",
            "    Estimated rank (mag): 62\n",
            "    MAG: rank 62 computed from 62 data channels with 0 projectors\n",
            "Reducing data rank from 62 -> 62\n",
            "Estimating covariance using EMPIRICAL\n",
            "Done.\n",
            "Computing rank from data with rank=None\n",
            "    Using tolerance 6.3e+02 (2.2e-16 eps * 62 dim * 4.6e+16  max singular value)\n",
            "    Estimated rank (mag): 62\n",
            "    MAG: rank 62 computed from 62 data channels with 0 projectors\n",
            "Reducing data rank from 62 -> 62\n",
            "Estimating covariance using EMPIRICAL\n",
            "Done.\n",
            "Computing rank from data with rank=None\n",
            "    Using tolerance 6.7e+02 (2.2e-16 eps * 62 dim * 4.9e+16  max singular value)\n",
            "    Estimated rank (mag): 62\n",
            "    MAG: rank 62 computed from 62 data channels with 0 projectors\n",
            "Reducing data rank from 62 -> 62\n",
            "Estimating covariance using EMPIRICAL\n",
            "Done.\n",
            "Computing rank from data with rank=None\n",
            "    Using tolerance 5.8e+02 (2.2e-16 eps * 62 dim * 4.2e+16  max singular value)\n",
            "    Estimated rank (mag): 62\n",
            "    MAG: rank 62 computed from 62 data channels with 0 projectors\n",
            "Reducing data rank from 62 -> 62\n",
            "Estimating covariance using EMPIRICAL\n",
            "Done.\n",
            "Computing rank from data with rank=None\n",
            "    Using tolerance 6.8e+02 (2.2e-16 eps * 62 dim * 5e+16  max singular value)\n",
            "    Estimated rank (mag): 62\n",
            "    MAG: rank 62 computed from 62 data channels with 0 projectors\n",
            "Reducing data rank from 62 -> 62\n",
            "Estimating covariance using EMPIRICAL\n",
            "Done.\n",
            "Computing rank from data with rank=None\n",
            "    Using tolerance 6e+02 (2.2e-16 eps * 62 dim * 4.3e+16  max singular value)\n",
            "    Estimated rank (mag): 62\n",
            "    MAG: rank 62 computed from 62 data channels with 0 projectors\n",
            "Reducing data rank from 62 -> 62\n",
            "Estimating covariance using EMPIRICAL\n",
            "Done.\n",
            "Computing rank from data with rank=None\n",
            "    Using tolerance 5.8e+02 (2.2e-16 eps * 62 dim * 4.2e+16  max singular value)\n",
            "    Estimated rank (mag): 62\n",
            "    MAG: rank 62 computed from 62 data channels with 0 projectors\n",
            "Reducing data rank from 62 -> 62\n",
            "Estimating covariance using EMPIRICAL\n",
            "Done.\n",
            "Computing rank from data with rank=None\n",
            "    Using tolerance 6e+02 (2.2e-16 eps * 62 dim * 4.4e+16  max singular value)\n",
            "    Estimated rank (mag): 62\n",
            "    MAG: rank 62 computed from 62 data channels with 0 projectors\n",
            "Reducing data rank from 62 -> 62\n",
            "Estimating covariance using EMPIRICAL\n",
            "Done.\n",
            "Computing rank from data with rank=None\n",
            "    Using tolerance 6.8e+02 (2.2e-16 eps * 62 dim * 5e+16  max singular value)\n",
            "    Estimated rank (mag): 62\n",
            "    MAG: rank 62 computed from 62 data channels with 0 projectors\n",
            "Reducing data rank from 62 -> 62\n",
            "Estimating covariance using EMPIRICAL\n",
            "Done.\n",
            "Computing rank from data with rank=None\n",
            "    Using tolerance 6.2e+02 (2.2e-16 eps * 62 dim * 4.5e+16  max singular value)\n",
            "    Estimated rank (mag): 62\n",
            "    MAG: rank 62 computed from 62 data channels with 0 projectors\n",
            "Reducing data rank from 62 -> 62\n",
            "Estimating covariance using EMPIRICAL\n",
            "Done.\n",
            "Computing rank from data with rank=None\n",
            "    Using tolerance 6e+02 (2.2e-16 eps * 62 dim * 4.3e+16  max singular value)\n",
            "    Estimated rank (mag): 62\n",
            "    MAG: rank 62 computed from 62 data channels with 0 projectors\n",
            "Reducing data rank from 62 -> 62\n",
            "Estimating covariance using EMPIRICAL\n",
            "Done.\n",
            "Computing rank from data with rank=None\n",
            "    Using tolerance 6.4e+02 (2.2e-16 eps * 62 dim * 4.6e+16  max singular value)\n",
            "    Estimated rank (mag): 62\n",
            "    MAG: rank 62 computed from 62 data channels with 0 projectors\n",
            "Reducing data rank from 62 -> 62\n",
            "Estimating covariance using EMPIRICAL\n",
            "Done.\n",
            "Computing rank from data with rank=None\n",
            "    Using tolerance 6.7e+02 (2.2e-16 eps * 62 dim * 4.9e+16  max singular value)\n",
            "    Estimated rank (mag): 62\n",
            "    MAG: rank 62 computed from 62 data channels with 0 projectors\n",
            "Reducing data rank from 62 -> 62\n",
            "Estimating covariance using EMPIRICAL\n",
            "Done.\n",
            "Classification accuracy: 0.72 +/-0.13\n",
            "Computing rank from data with rank=None\n",
            "    Using tolerance 7.2e+02 (2.2e-16 eps * 62 dim * 5.3e+16  max singular value)\n",
            "    Estimated rank (mag): 62\n",
            "    MAG: rank 62 computed from 62 data channels with 0 projectors\n",
            "Reducing data rank from 62 -> 62\n",
            "Estimating covariance using EMPIRICAL\n",
            "Done.\n",
            "Computing rank from data with rank=None\n",
            "    Using tolerance 7.2e+02 (2.2e-16 eps * 62 dim * 5.2e+16  max singular value)\n",
            "    Estimated rank (mag): 62\n",
            "    MAG: rank 62 computed from 62 data channels with 0 projectors\n",
            "Reducing data rank from 62 -> 62\n",
            "Estimating covariance using EMPIRICAL\n",
            "Done.\n",
            "Computing rank from data with rank=None\n",
            "    Using tolerance 6.7e+02 (2.2e-16 eps * 62 dim * 4.9e+16  max singular value)\n",
            "    Estimated rank (mag): 62\n",
            "    MAG: rank 62 computed from 62 data channels with 0 projectors\n",
            "Reducing data rank from 62 -> 62\n",
            "Estimating covariance using EMPIRICAL\n",
            "Done.\n",
            "Accuracy: 88.89%\n",
            "F1 score: 0.89\n"
          ]
        }
      ],
      "source": [
        "# CSP feature extraction and random forest classifier\n",
        "\n",
        "print(\"CSP features + Random Forest\")\n",
        "\n",
        "# define the pipeline\n",
        "pipe = Pipeline([('csp', CSP(n_components=60, log=False, norm_trace=False)), ('rf', RandomForestClassifier(n_estimators=100))])\n",
        "\n",
        "# cross validation\n",
        "cv = ShuffleSplit(10, test_size=0.2, random_state=42)\n",
        "scores = cross_val_score(pipe, X_train, y_train, cv=cv, n_jobs=1)\n",
        "# remove NaN values from scores\n",
        "scores = scores[~np.isnan(scores)]\n",
        "\n",
        "print(\"Classification accuracy: %0.2f +/-%0.2f\" % (scores.mean(), scores.std()))\n",
        "\n",
        "# fit the pipeline\n",
        "pipe.fit(X_train, y_train)\n",
        "\n",
        "# predict\n",
        "y_pred = pipe.predict(X_test)\n",
        "\n",
        "# calculate the accuracy\n",
        "accuracy = np.sum(y_pred == y_test) / len(y_test)\n",
        "print(f\"Accuracy: {accuracy * 100:.2f}%\")\n",
        "\n",
        "# calculate the F1 score\n",
        "f1 = f1_score(y_test, y_pred, average='weighted')\n",
        "print(\"F1 score: {:.2f}\".format(f1))"
      ]
    },
    {
      "cell_type": "code",
      "execution_count": 43,
      "metadata": {},
      "outputs": [
        {
          "name": "stdout",
          "output_type": "stream",
          "text": [
            "CSP features + Random Forest\n",
            "Classification accuracy: 0.72 +/-0.13\n",
            "Accuracy: 88.89%\n",
            "F1 score: 0.89\n"
          ]
        }
      ],
      "source": [
        "print(\"CSP features + Random Forest\")\n",
        "print(\"Classification accuracy: %0.2f +/-%0.2f\" % (scores.mean(), scores.std()))\n",
        "print(f\"Accuracy: {accuracy * 100:.2f}%\")\n",
        "print(\"F1 score: {:.2f}\".format(f1))"
      ]
    },
    {
      "cell_type": "code",
      "execution_count": 44,
      "metadata": {},
      "outputs": [
        {
          "name": "stdout",
          "output_type": "stream",
          "text": [
            "Pyriemann features + SVM\n",
            "Classification accuracy: 0.94 +/-0.07\n",
            "Accuracy: 100.00%\n",
            "F1 score: 1.00\n"
          ]
        }
      ],
      "source": [
        "# pyriemann feature extraction and SVM classifier\n",
        "\n",
        "print(\"Pyriemann features + SVM\")\n",
        "\n",
        "# define the pipeline\n",
        "pipe = Pipeline([('cov', Covariances(estimator='lwf')), ('ts', TangentSpace()), ('svm', SVC(kernel='linear'))])\n",
        "\n",
        "# cross validation\n",
        "cv = ShuffleSplit(10, test_size=0.2, random_state=42)\n",
        "scores = cross_val_score(pipe, X_train, y_train, cv=cv, n_jobs=1)\n",
        "print(\"Classification accuracy: %0.2f +/-%0.2f\" % (scores.mean(), scores.std()))\n",
        "\n",
        "# fit the pipeline\n",
        "pipe.fit(X_train, y_train)\n",
        "\n",
        "# predict\n",
        "y_pred = pipe.predict(X_test)\n",
        "\n",
        "# calculate the accuracy\n",
        "accuracy = np.sum(y_pred == y_test) / len(y_test)\n",
        "print(f\"Accuracy: {accuracy * 100:.2f}%\")\n",
        "\n",
        "# calculate the F1 score\n",
        "f1 = f1_score(y_test, y_pred, average='weighted')\n",
        "print(\"F1 score: {:.2f}\".format(f1))"
      ]
    },
    {
      "cell_type": "code",
      "execution_count": 45,
      "metadata": {},
      "outputs": [
        {
          "name": "stdout",
          "output_type": "stream",
          "text": [
            "CSP features + SVM\n",
            "Computing rank from data with rank=None\n",
            "    Using tolerance 6.7e+02 (2.2e-16 eps * 62 dim * 4.9e+16  max singular value)\n",
            "    Estimated rank (mag): 62\n",
            "    MAG: rank 62 computed from 62 data channels with 0 projectors\n",
            "Reducing data rank from 62 -> 62\n",
            "Estimating covariance using EMPIRICAL\n",
            "Done.\n",
            "Computing rank from data with rank=None\n",
            "    Using tolerance 6.5e+02 (2.2e-16 eps * 62 dim * 4.7e+16  max singular value)\n",
            "    Estimated rank (mag): 62\n",
            "    MAG: rank 62 computed from 62 data channels with 0 projectors\n",
            "Reducing data rank from 62 -> 62\n",
            "Estimating covariance using EMPIRICAL\n",
            "Done.\n",
            "Computing rank from data with rank=None\n",
            "    Using tolerance 5.9e+02 (2.2e-16 eps * 62 dim * 4.3e+16  max singular value)\n",
            "    Estimated rank (mag): 62\n",
            "    MAG: rank 62 computed from 62 data channels with 0 projectors\n",
            "Reducing data rank from 62 -> 62\n",
            "Estimating covariance using EMPIRICAL\n",
            "Done.\n",
            "Computing rank from data with rank=None\n",
            "    Using tolerance 6.4e+02 (2.2e-16 eps * 62 dim * 4.7e+16  max singular value)\n",
            "    Estimated rank (mag): 62\n",
            "    MAG: rank 62 computed from 62 data channels with 0 projectors\n",
            "Reducing data rank from 62 -> 62\n",
            "Estimating covariance using EMPIRICAL\n",
            "Done.\n",
            "Computing rank from data with rank=None\n",
            "    Using tolerance 6.5e+02 (2.2e-16 eps * 62 dim * 4.8e+16  max singular value)\n",
            "    Estimated rank (mag): 62\n",
            "    MAG: rank 62 computed from 62 data channels with 0 projectors\n",
            "Reducing data rank from 62 -> 62\n",
            "Estimating covariance using EMPIRICAL\n",
            "Done.\n",
            "Computing rank from data with rank=None\n",
            "    Using tolerance 6.5e+02 (2.2e-16 eps * 62 dim * 4.7e+16  max singular value)\n",
            "    Estimated rank (mag): 62\n",
            "    MAG: rank 62 computed from 62 data channels with 0 projectors\n",
            "Reducing data rank from 62 -> 62\n",
            "Estimating covariance using EMPIRICAL\n",
            "Done.\n",
            "Computing rank from data with rank=None\n",
            "    Using tolerance 6.7e+02 (2.2e-16 eps * 62 dim * 4.9e+16  max singular value)\n",
            "    Estimated rank (mag): 62\n",
            "    MAG: rank 62 computed from 62 data channels with 0 projectors\n",
            "Reducing data rank from 62 -> 62\n",
            "Estimating covariance using EMPIRICAL\n",
            "Done.\n",
            "Computing rank from data with rank=None\n",
            "    Using tolerance 6e+02 (2.2e-16 eps * 62 dim * 4.4e+16  max singular value)\n",
            "    Estimated rank (mag): 62\n",
            "    MAG: rank 62 computed from 62 data channels with 0 projectors\n",
            "Reducing data rank from 62 -> 62\n",
            "Estimating covariance using EMPIRICAL\n",
            "Done.\n",
            "Computing rank from data with rank=None\n",
            "    Using tolerance 6e+02 (2.2e-16 eps * 62 dim * 4.4e+16  max singular value)\n",
            "    Estimated rank (mag): 62\n",
            "    MAG: rank 62 computed from 62 data channels with 0 projectors\n",
            "Reducing data rank from 62 -> 62\n",
            "Estimating covariance using EMPIRICAL\n",
            "Done.\n",
            "Computing rank from data with rank=None\n",
            "    Using tolerance 6.9e+02 (2.2e-16 eps * 62 dim * 5e+16  max singular value)\n",
            "    Estimated rank (mag): 62\n",
            "    MAG: rank 62 computed from 62 data channels with 0 projectors\n",
            "Reducing data rank from 62 -> 62\n",
            "Estimating covariance using EMPIRICAL\n",
            "Done.\n",
            "Computing rank from data with rank=None\n",
            "    Using tolerance 6e+02 (2.2e-16 eps * 62 dim * 4.4e+16  max singular value)\n",
            "    Estimated rank (mag): 62\n",
            "    MAG: rank 62 computed from 62 data channels with 0 projectors\n",
            "Reducing data rank from 62 -> 62\n",
            "Estimating covariance using EMPIRICAL\n",
            "Done.\n",
            "Computing rank from data with rank=None\n",
            "    Using tolerance 5.9e+02 (2.2e-16 eps * 62 dim * 4.3e+16  max singular value)\n",
            "    Estimated rank (mag): 62\n",
            "    MAG: rank 62 computed from 62 data channels with 0 projectors\n",
            "Reducing data rank from 62 -> 62\n",
            "Estimating covariance using EMPIRICAL\n",
            "Done.\n",
            "Computing rank from data with rank=None\n",
            "    Using tolerance 6.3e+02 (2.2e-16 eps * 62 dim * 4.6e+16  max singular value)\n",
            "    Estimated rank (mag): 62\n",
            "    MAG: rank 62 computed from 62 data channels with 0 projectors\n",
            "Reducing data rank from 62 -> 62\n",
            "Estimating covariance using EMPIRICAL\n",
            "Done.\n",
            "Computing rank from data with rank=None\n",
            "    Using tolerance 6.2e+02 (2.2e-16 eps * 62 dim * 4.5e+16  max singular value)\n",
            "    Estimated rank (mag): 62\n",
            "    MAG: rank 62 computed from 62 data channels with 0 projectors\n",
            "Reducing data rank from 62 -> 62\n",
            "Estimating covariance using EMPIRICAL\n",
            "Done.\n",
            "Computing rank from data with rank=None\n",
            "    Using tolerance 6.7e+02 (2.2e-16 eps * 62 dim * 4.9e+16  max singular value)\n",
            "    Estimated rank (mag): 62\n",
            "    MAG: rank 62 computed from 62 data channels with 0 projectors\n",
            "Reducing data rank from 62 -> 62\n",
            "Estimating covariance using EMPIRICAL\n",
            "Done.\n",
            "Computing rank from data with rank=None\n",
            "    Using tolerance 6.5e+02 (2.2e-16 eps * 62 dim * 4.7e+16  max singular value)\n",
            "    Estimated rank (mag): 62\n",
            "    MAG: rank 62 computed from 62 data channels with 0 projectors\n",
            "Reducing data rank from 62 -> 62\n",
            "Estimating covariance using EMPIRICAL\n",
            "Done.\n",
            "Computing rank from data with rank=None\n",
            "    Using tolerance 6.5e+02 (2.2e-16 eps * 62 dim * 4.7e+16  max singular value)\n",
            "    Estimated rank (mag): 62\n",
            "    MAG: rank 62 computed from 62 data channels with 0 projectors\n",
            "Reducing data rank from 62 -> 62\n",
            "Estimating covariance using EMPIRICAL\n",
            "Done.\n",
            "Computing rank from data with rank=None\n",
            "    Using tolerance 6e+02 (2.2e-16 eps * 62 dim * 4.3e+16  max singular value)\n",
            "    Estimated rank (mag): 62\n",
            "    MAG: rank 62 computed from 62 data channels with 0 projectors\n",
            "Reducing data rank from 62 -> 62\n",
            "Estimating covariance using EMPIRICAL\n",
            "Done.\n",
            "Computing rank from data with rank=None\n",
            "    Using tolerance 6.3e+02 (2.2e-16 eps * 62 dim * 4.6e+16  max singular value)\n",
            "    Estimated rank (mag): 62\n",
            "    MAG: rank 62 computed from 62 data channels with 0 projectors\n",
            "Reducing data rank from 62 -> 62\n",
            "Estimating covariance using EMPIRICAL\n",
            "Done.\n",
            "Computing rank from data with rank=None\n",
            "    Using tolerance 6.7e+02 (2.2e-16 eps * 62 dim * 4.9e+16  max singular value)\n",
            "    Estimated rank (mag): 62\n",
            "    MAG: rank 62 computed from 62 data channels with 0 projectors\n",
            "Reducing data rank from 62 -> 62\n",
            "Estimating covariance using EMPIRICAL\n",
            "Done.\n",
            "Computing rank from data with rank=None\n",
            "    Using tolerance 5.8e+02 (2.2e-16 eps * 62 dim * 4.2e+16  max singular value)\n",
            "    Estimated rank (mag): 62\n",
            "    MAG: rank 62 computed from 62 data channels with 0 projectors\n",
            "Reducing data rank from 62 -> 62\n",
            "Estimating covariance using EMPIRICAL\n",
            "Done.\n",
            "Computing rank from data with rank=None\n",
            "    Using tolerance 6.8e+02 (2.2e-16 eps * 62 dim * 5e+16  max singular value)\n",
            "    Estimated rank (mag): 62\n",
            "    MAG: rank 62 computed from 62 data channels with 0 projectors\n",
            "Reducing data rank from 62 -> 62\n",
            "Estimating covariance using EMPIRICAL\n",
            "Done.\n",
            "Computing rank from data with rank=None\n",
            "    Using tolerance 6e+02 (2.2e-16 eps * 62 dim * 4.3e+16  max singular value)\n",
            "    Estimated rank (mag): 62\n",
            "    MAG: rank 62 computed from 62 data channels with 0 projectors\n",
            "Reducing data rank from 62 -> 62\n",
            "Estimating covariance using EMPIRICAL\n",
            "Done.\n",
            "Computing rank from data with rank=None\n",
            "    Using tolerance 5.8e+02 (2.2e-16 eps * 62 dim * 4.2e+16  max singular value)\n",
            "    Estimated rank (mag): 62\n",
            "    MAG: rank 62 computed from 62 data channels with 0 projectors\n",
            "Reducing data rank from 62 -> 62\n",
            "Estimating covariance using EMPIRICAL\n",
            "Done.\n",
            "Computing rank from data with rank=None\n",
            "    Using tolerance 6e+02 (2.2e-16 eps * 62 dim * 4.4e+16  max singular value)\n",
            "    Estimated rank (mag): 62\n",
            "    MAG: rank 62 computed from 62 data channels with 0 projectors\n",
            "Reducing data rank from 62 -> 62\n",
            "Estimating covariance using EMPIRICAL\n",
            "Done.\n",
            "Computing rank from data with rank=None\n",
            "    Using tolerance 6.8e+02 (2.2e-16 eps * 62 dim * 5e+16  max singular value)\n",
            "    Estimated rank (mag): 62\n",
            "    MAG: rank 62 computed from 62 data channels with 0 projectors\n",
            "Reducing data rank from 62 -> 62\n",
            "Estimating covariance using EMPIRICAL\n",
            "Done.\n",
            "Computing rank from data with rank=None\n",
            "    Using tolerance 6.2e+02 (2.2e-16 eps * 62 dim * 4.5e+16  max singular value)\n",
            "    Estimated rank (mag): 62\n",
            "    MAG: rank 62 computed from 62 data channels with 0 projectors\n",
            "Reducing data rank from 62 -> 62\n",
            "Estimating covariance using EMPIRICAL\n",
            "Done.\n",
            "Computing rank from data with rank=None\n",
            "    Using tolerance 6e+02 (2.2e-16 eps * 62 dim * 4.3e+16  max singular value)\n",
            "    Estimated rank (mag): 62\n",
            "    MAG: rank 62 computed from 62 data channels with 0 projectors\n",
            "Reducing data rank from 62 -> 62\n",
            "Estimating covariance using EMPIRICAL\n",
            "Done.\n",
            "Computing rank from data with rank=None\n",
            "    Using tolerance 6.4e+02 (2.2e-16 eps * 62 dim * 4.6e+16  max singular value)\n",
            "    Estimated rank (mag): 62\n",
            "    MAG: rank 62 computed from 62 data channels with 0 projectors\n",
            "Reducing data rank from 62 -> 62\n",
            "Estimating covariance using EMPIRICAL\n",
            "Done.\n",
            "Computing rank from data with rank=None\n",
            "    Using tolerance 6.7e+02 (2.2e-16 eps * 62 dim * 4.9e+16  max singular value)\n",
            "    Estimated rank (mag): 62\n",
            "    MAG: rank 62 computed from 62 data channels with 0 projectors\n",
            "Reducing data rank from 62 -> 62\n",
            "Estimating covariance using EMPIRICAL\n",
            "Done.\n",
            "Classification accuracy: 0.37 +/-0.08\n",
            "Computing rank from data with rank=None\n",
            "    Using tolerance 7.2e+02 (2.2e-16 eps * 62 dim * 5.3e+16  max singular value)\n",
            "    Estimated rank (mag): 62\n",
            "    MAG: rank 62 computed from 62 data channels with 0 projectors\n",
            "Reducing data rank from 62 -> 62\n",
            "Estimating covariance using EMPIRICAL\n",
            "Done.\n",
            "Computing rank from data with rank=None\n",
            "    Using tolerance 7.2e+02 (2.2e-16 eps * 62 dim * 5.2e+16  max singular value)\n",
            "    Estimated rank (mag): 62\n",
            "    MAG: rank 62 computed from 62 data channels with 0 projectors\n",
            "Reducing data rank from 62 -> 62\n",
            "Estimating covariance using EMPIRICAL\n",
            "Done.\n",
            "Computing rank from data with rank=None\n",
            "    Using tolerance 6.7e+02 (2.2e-16 eps * 62 dim * 4.9e+16  max singular value)\n",
            "    Estimated rank (mag): 62\n",
            "    MAG: rank 62 computed from 62 data channels with 0 projectors\n",
            "Reducing data rank from 62 -> 62\n",
            "Estimating covariance using EMPIRICAL\n",
            "Done.\n",
            "Accuracy: 38.89%\n",
            "F1 score: 0.36\n"
          ]
        }
      ],
      "source": [
        "# CSP feature extraction and SVM classifier\n",
        "\n",
        "print(\"CSP features + SVM\")\n",
        "\n",
        "# define the pipeline\n",
        "pipe = Pipeline([('csp', CSP(n_components=60, log=False, norm_trace=False)), ('svm', SVC(kernel='linear'))])\n",
        "\n",
        "# cross validation\n",
        "cv = ShuffleSplit(10, test_size=0.2, random_state=42)\n",
        "scores = cross_val_score(pipe, X_train, y_train, cv=cv, n_jobs=1)\n",
        "\n",
        "# remove NaN values from scores\n",
        "scores = scores[~np.isnan(scores)]\n",
        "\n",
        "print(\"Classification accuracy: %0.2f +/-%0.2f\" % (scores.mean(), scores.std()))\n",
        "\n",
        "# fit the pipeline\n",
        "pipe.fit(X_train, y_train)\n",
        "\n",
        "# predict\n",
        "y_pred = pipe.predict(X_test)\n",
        "\n",
        "# calculate the accuracy\n",
        "accuracy = np.sum(y_pred == y_test) / len(y_test)\n",
        "print(f\"Accuracy: {accuracy * 100:.2f}%\")\n",
        "\n",
        "# calculate the F1 score\n",
        "f1 = f1_score(y_test, y_pred, average='weighted')\n",
        "print(\"F1 score: {:.2f}\".format(f1))"
      ]
    },
    {
      "cell_type": "code",
      "execution_count": 46,
      "metadata": {},
      "outputs": [
        {
          "name": "stdout",
          "output_type": "stream",
          "text": [
            "CSP + SVM\n",
            "Classification accuracy: 0.37 +/-0.08\n",
            "Accuracy: 38.89%\n",
            "F1 score: 0.36\n"
          ]
        }
      ],
      "source": [
        "print(\"CSP + SVM\")\n",
        "print(\"Classification accuracy: %0.2f +/-%0.2f\" % (scores.mean(), scores.std()))\n",
        "print(f\"Accuracy: {accuracy * 100:.2f}%\")\n",
        "print(\"F1 score: {:.2f}\".format(f1))"
      ]
    },
    {
      "cell_type": "code",
      "execution_count": null,
      "metadata": {},
      "outputs": [],
      "source": []
    }
  ],
  "metadata": {
    "colab": {
      "provenance": []
    },
    "kernelspec": {
      "display_name": "Python 3",
      "name": "python3"
    },
    "language_info": {
      "codemirror_mode": {
        "name": "ipython",
        "version": 3
      },
      "file_extension": ".py",
      "mimetype": "text/x-python",
      "name": "python",
      "nbconvert_exporter": "python",
      "pygments_lexer": "ipython3",
      "version": "3.10.10"
    }
  },
  "nbformat": 4,
  "nbformat_minor": 0
}
